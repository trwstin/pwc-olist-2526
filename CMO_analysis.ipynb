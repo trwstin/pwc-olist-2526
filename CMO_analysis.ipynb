{
 "cells": [
  {
   "cell_type": "code",
   "execution_count": 1,
   "metadata": {},
   "outputs": [],
   "source": [
    "import pandas as pd\n",
    "import matplotlib.pyplot as plt\n",
    "import seaborn as sns\n",
    "import statsmodels.formula.api as smf\n",
    "from scipy.stats import linregress"
   ]
  },
  {
   "cell_type": "markdown",
   "metadata": {},
   "source": [
    "## Data Exploration"
   ]
  },
  {
   "cell_type": "code",
   "execution_count": 2,
   "metadata": {},
   "outputs": [],
   "source": [
    "# Load products-related dataset\n",
    "file1 = 'raw/004_lomo_products_dataset.csv'\n",
    "file2 = 'raw/005_lomo_product_category_name_translation.csv'\n",
    "df1 = pd.read_csv(file1)\n",
    "df2 = pd.read_csv(file2)\n",
    "\n",
    "# Merge products dataset using 'product_category_name' as FK\n",
    "# Before this I had manually updated the column name in 005 to 'product_category_name'\n",
    "products_df = pd.merge(df1, df2, on='product_category_name', how='left')\n",
    "products_df.drop(columns=['product_category_name'], inplace=True)"
   ]
  },
  {
   "cell_type": "code",
   "execution_count": 3,
   "metadata": {},
   "outputs": [],
   "source": [
    "# Load order items dataset\n",
    "file3 = 'raw/007_lomo_order_items_dataset.csv'\n",
    "df3 = pd.read_csv(file3)\n",
    "\n",
    "# Merge with order items dataset using 'product_id' as FK\n",
    "orders_df = pd.merge(df3, products_df[['product_id', 'product_category_name_english']], \n",
    "                        on='product_id', how='left')"
   ]
  },
  {
   "cell_type": "code",
   "execution_count": 4,
   "metadata": {},
   "outputs": [],
   "source": [
    "# Load orders dataset\n",
    "file4 = 'raw/006_lomo_orders_dataset.csv'\n",
    "df4 = pd.read_csv(file4)\n",
    "\n",
    "# Merge with orders dataset using 'order_id' as FK\n",
    "orders_df = pd.merge(orders_df, df4[['order_id','order_purchase_timestamp','customer_id']], \n",
    "                     on='order_id', how='left')\n",
    "\n",
    "orders_df2 = orders_df.copy()\n",
    "orders_df2.drop(columns=['order_id','order_item_id','product_id','seller_id',\n",
    "                        'shipping_limit_date'], inplace=True)"
   ]
  },
  {
   "cell_type": "code",
   "execution_count": 20,
   "metadata": {},
   "outputs": [
    {
     "name": "stdout",
     "output_type": "stream",
     "text": [
      "Top 10 Product Categories by Total Revenue:\n",
      "   product_category_name_english  count   total_rev  total_cost\n",
      "43                 health_beauty   9670  1258681.34  1441248.07\n",
      "70                 watches_gifts   5991  1205005.68  1305541.61\n",
      "7                 bed_bath_table  11115  1036988.68  1241681.72\n",
      "64                sports_leisure   8641   988048.97  1156656.48\n",
      "14         computers_accessories   7827   911954.32  1059272.40\n",
      "39               furniture_decor   8334   729762.49   902511.79\n",
      "21                    cool_stuff   3796   635290.85   719329.95\n",
      "49                    housewares   6964   632248.66   778397.77\n",
      "5                           auto   4235   592720.11   685384.32\n",
      "42                  garden_tools   4347   485256.46   584219.21\n",
      "\n",
      "Top 10 Product Categories by Total Qty Sold:\n",
      "   product_category_name_english  count   total_rev  total_cost\n",
      "7                 bed_bath_table  11115  1036988.68  1241681.72\n",
      "43                 health_beauty   9670  1258681.34  1441248.07\n",
      "64                sports_leisure   8641   988048.97  1156656.48\n",
      "39               furniture_decor   8334   729762.49   902511.79\n",
      "14         computers_accessories   7827   911954.32  1059272.40\n",
      "49                    housewares   6964   632248.66   778397.77\n",
      "70                 watches_gifts   5991  1205005.68  1305541.61\n",
      "67                     telephony   4545   323667.53   394883.32\n",
      "42                  garden_tools   4347   485256.46   584219.21\n",
      "5                           auto   4235   592720.11   685384.32\n"
     ]
    }
   ],
   "source": [
    "# Ensure the purchase timestamp is in datetime format\n",
    "orders_df2['order_purchase_timestamp'] = pd.to_datetime(orders_df2['order_purchase_timestamp'])\n",
    "\n",
    "# Create a new column for total cost (price + freight_value)\n",
    "orders_df2['total_cost'] = orders_df2['price'] + orders_df2['freight_value']\n",
    "\n",
    "# Aggregate metrics for each product category\n",
    "summary = orders_df2.groupby('product_category_name_english').agg(\n",
    "    count=('order_purchase_timestamp', 'size'),\n",
    "    total_rev=('price', 'sum'),\n",
    "    total_cost=('total_cost', 'sum')\n",
    ").reset_index()\n",
    "\n",
    "print(\"Top 10 Product Categories by Total Revenue:\")\n",
    "print(summary.sort_values(by='total_rev', ascending=False).head(10))\n",
    "\n",
    "print(\"\\nTop 10 Product Categories by Total Qty Sold:\")\n",
    "print(summary.sort_values(by='count', ascending=False).head(10))\n",
    "\n",
    "# Export the summary DataFrame to a CSV file\n",
    "summary.to_csv('summary.csv', index=False)"
   ]
  },
  {
   "cell_type": "code",
   "execution_count": 6,
   "metadata": {},
   "outputs": [
    {
     "name": "stdout",
     "output_type": "stream",
     "text": [
      "Regression Coefficients for the Top 10 Product Categories:\n",
      "product_category_name_english  regression_coefficient\n",
      "                health_beauty                1.297328\n",
      "               bed_bath_table                1.145708\n",
      "                watches_gifts                0.915610\n",
      "                   housewares                0.873153\n",
      "        computers_accessories                0.870392\n",
      "               sports_leisure                0.814967\n",
      "              furniture_decor                0.693733\n",
      "                         auto                0.583927\n",
      "                    telephony                0.418335\n",
      "                 garden_tools                0.312076\n"
     ]
    }
   ],
   "source": [
    "# Create a column for month/year aggregation\n",
    "orders_df2['order_month'] = orders_df2['order_purchase_timestamp'].dt.to_period('M').astype(str)\n",
    "\n",
    "# Aggregate total product count by product category\n",
    "category_counts = orders_df2.groupby('product_category_name_english').size().sort_values(ascending=False)\n",
    "top_categories = category_counts.head(10).index\n",
    "\n",
    "# Filter orders_df2 for only the top 10 product categories\n",
    "filtered_orders = orders_df2[orders_df2['product_category_name_english'].isin(top_categories)]\n",
    "\n",
    "# Aggregate monthly counts by product category for the top categories\n",
    "monthly_trend = filtered_orders.groupby(['order_month', 'product_category_name_english']).size().reset_index(name='order_count')\n",
    "\n",
    "# Calculate regression coeff for each top category\n",
    "reg_coeff = []\n",
    "for category in top_categories:\n",
    "    category_data = monthly_trend[monthly_trend['product_category_name_english'] == category].copy()\n",
    "    category_data['order_month_dt'] = pd.to_datetime(category_data['order_month'], format='%Y-%m')\n",
    "    category_data['month_numeric'] = category_data['order_month_dt'].map(pd.Timestamp.toordinal)\n",
    "    slope = linregress(category_data['month_numeric'], category_data['order_count'])[0]\n",
    "\n",
    "    reg_coeff.append({\n",
    "        'product_category_name_english': category,\n",
    "        'regression_coefficient': slope\n",
    "    })\n",
    "\n",
    "trend_df = pd.DataFrame(reg_coeff).sort_values(by='regression_coefficient', ascending=False)\n",
    "\n",
    "print(\"Regression Coefficients for the Top 10 Product Categories:\")\n",
    "print(trend_df.to_string(index=False))"
   ]
  },
  {
   "cell_type": "code",
   "execution_count": 22,
   "metadata": {},
   "outputs": [],
   "source": [
    "monthly_trend.to_csv('product_category_monthly_trend.csv', index=False)"
   ]
  },
  {
   "cell_type": "code",
   "execution_count": 7,
   "metadata": {},
   "outputs": [
    {
     "data": {
      "image/png": "[encoded data removed]",
      "text/plain": [
       "<Figure size 1200x600 with 1 Axes>"
      ]
     },
     "metadata": {},
     "output_type": "display_data"
    }
   ],
   "source": [
    "# Plot the monthly purchasing trend for the top 3 categories\n",
    "categories_to_plot = ['health_beauty', 'bed_bath_table', 'watches_gifts']\n",
    "filtered_trend = monthly_trend[monthly_trend['product_category_name_english'].isin(categories_to_plot)]\n",
    "\n",
    "plt.figure(figsize=(12, 6))\n",
    "sns.lineplot(data=filtered_trend, x='order_month', y='order_count', hue='product_category_name_english')\n",
    "plt.title('Monthly Purchasing Trend')\n",
    "plt.xlabel('Time (Year-Month)')\n",
    "plt.ylabel('Number of Orders')\n",
    "plt.xticks(rotation=45)\n",
    "plt.legend(title='Product Category', bbox_to_anchor=(1.05, 1), loc='upper left')\n",
    "plt.tight_layout()\n",
    "plt.show()"
   ]
  },
  {
   "cell_type": "code",
   "execution_count": 8,
   "metadata": {},
   "outputs": [],
   "source": [
    "# Combine customers and orders datasets\n",
    "customers_df = pd.read_csv('raw/001_lomo_customers_dataset.csv')\n",
    "\n",
    "orders_customers_df = pd.merge(orders_df, customers_df[['customer_id', 'customer_state']],\n",
    "                               on='customer_id', how='inner')"
   ]
  },
  {
   "cell_type": "code",
   "execution_count": null,
   "metadata": {},
   "outputs": [
    {
     "name": "stdout",
     "output_type": "stream",
     "text": [
      "  product_category_name_english  times_top\n",
      "0                bed_bath_table         46\n",
      "1                 health_beauty         11\n",
      "2               furniture_decor          7\n",
      "3         computers_accessories          2\n",
      "4                sports_leisure          2\n",
      "5                 watches_gifts          1\n"
     ]
    }
   ],
   "source": [
    "# Group by state and category\n",
    "summary_by_state = orders_customers_df.groupby(['customer_state', 'product_category_name_english']).size().reset_index(name='count')\n",
    "\n",
    "# For each state, pick the row with the highest count\n",
    "top_category_by_state = summary_by_state.loc[summary_by_state.groupby('customer_state')['count'].idxmax()]\n",
    "\n",
    "# Count how many times each category appears as the top category\n",
    "category_counts = top_category_by_state['product_category_name_english'].value_counts().reset_index(name='times_top')\n",
    "category_counts.rename(columns={'index': 'product_category_name_english'}, inplace=True)\n",
    "\n",
    "# Sort by the times a category appears as top\n",
    "category_counts.sort_values(by='times_top', ascending=False, inplace=True)\n",
    "\n",
    "print(category_counts)\n"
   ]
  },
  {
   "cell_type": "code",
   "execution_count": 23,
   "metadata": {},
   "outputs": [],
   "source": [
    "category_counts.to_csv('top_category_by_state.csv', index=False)"
   ]
  },
  {
   "cell_type": "code",
   "execution_count": 17,
   "metadata": {},
   "outputs": [],
   "source": [
    "# Create df containing only data on top categories in each state\n",
    "unique_states = orders_customers_df['customer_state'].unique()\n",
    "unique_states_df = pd.DataFrame({\n",
    "    'State': unique_states,\n",
    "    'Country': ['Thailand'] * len(unique_states)\n",
    "})\n",
    "\n",
    "merged_df = pd.merge(\n",
    "    unique_states_df,\n",
    "    summary_by_state,\n",
    "    left_on='State', \n",
    "    right_on='customer_state', \n",
    "    how='inner'\n",
    ")\n",
    "\n",
    "# Keep only the row with the highest count for each state, drop customer_state\n",
    "merged_top_df = merged_df.loc[merged_df.groupby('State')['count'].idxmax()]\n",
    "merged_top_df.drop(columns=['customer_state'], inplace=True)"
   ]
  },
  {
   "cell_type": "code",
   "execution_count": 19,
   "metadata": {},
   "outputs": [],
   "source": [
    "# Combine with latlong data and export\n",
    "latlong_df = pd.read_excel('latlong.xlsx')\n",
    "geo_df = pd.merge(merged_top_df, latlong_df[['State','Lat','Long']], on='State', how='inner')\n",
    "geo_df.to_excel('geo_df.xlsx', index=False)"
   ]
  },
  {
   "cell_type": "markdown",
   "metadata": {},
   "source": [
    "## Descriptive Analysis"
   ]
  },
  {
   "cell_type": "code",
   "execution_count": null,
   "metadata": {},
   "outputs": [
    {
     "name": "stdout",
     "output_type": "stream",
     "text": [
      "State-wise Descriptive Metrics:\n",
      "                   num_orders  total_revenue  avg_order_value\n",
      "customer_state                                               \n",
      "Roi Et                   6140      866737.41       141.162445\n",
      "Nakhon Ratchasima        5511      755149.76       137.025905\n",
      "Sakon Nakhon             4977      682149.44       137.060366\n",
      "Si Sa Ket                4773      654661.81       137.159399\n",
      "Maha Sarakham            4133      563475.13       136.335623\n",
      "...                       ...            ...              ...\n",
      "Surat Thani               278       35502.18       127.705683\n",
      "Phuket                    240       33334.33       138.893042\n",
      "Ang Thong                 205       27609.65       134.681220\n",
      "Chai Nat                  142       15901.60       111.983099\n",
      "Yala                       76        9258.62       121.823947\n",
      "\n",
      "[69 rows x 3 columns]\n"
     ]
    }
   ],
   "source": [
    "# Calculate metrics by state: total orders, total revenue and average order value\n",
    "state_metrics = orders_customers_df.groupby('customer_state').agg({\n",
    "    'order_id': 'nunique',\n",
    "    'price': 'sum'\n",
    "}).rename(columns={'order_id': 'num_orders', 'price': 'total_revenue'})\n",
    "\n",
    "state_metrics['avg_order_value'] = state_metrics['total_revenue'] / state_metrics['num_orders']\n",
    "print(\"State-wise Descriptive Metrics:\")\n",
    "print(state_metrics.sort_values(by='total_revenue', ascending=False))"
   ]
  },
  {
   "cell_type": "code",
   "execution_count": 25,
   "metadata": {},
   "outputs": [
    {
     "data": {
      "text/html": [
       "<div>\n",
       "<style scoped>\n",
       "    .dataframe tbody tr th:only-of-type {\n",
       "        vertical-align: middle;\n",
       "    }\n",
       "\n",
       "    .dataframe tbody tr th {\n",
       "        vertical-align: top;\n",
       "    }\n",
       "\n",
       "    .dataframe thead th {\n",
       "        text-align: right;\n",
       "    }\n",
       "</style>\n",
       "<table border=\"1\" class=\"dataframe\">\n",
       "  <thead>\n",
       "    <tr style=\"text-align: right;\">\n",
       "      <th></th>\n",
       "      <th>num_orders</th>\n",
       "      <th>total_revenue</th>\n",
       "      <th>avg_order_value</th>\n",
       "    </tr>\n",
       "  </thead>\n",
       "  <tbody>\n",
       "    <tr>\n",
       "      <th>count</th>\n",
       "      <td>69.000000</td>\n",
       "      <td>69.000000</td>\n",
       "      <td>69.000000</td>\n",
       "    </tr>\n",
       "    <tr>\n",
       "      <th>mean</th>\n",
       "      <td>1429.942029</td>\n",
       "      <td>196980.343478</td>\n",
       "      <td>137.110870</td>\n",
       "    </tr>\n",
       "    <tr>\n",
       "      <th>std</th>\n",
       "      <td>1444.484631</td>\n",
       "      <td>198974.458365</td>\n",
       "      <td>8.440521</td>\n",
       "    </tr>\n",
       "    <tr>\n",
       "      <th>min</th>\n",
       "      <td>76.000000</td>\n",
       "      <td>9258.620000</td>\n",
       "      <td>111.983099</td>\n",
       "    </tr>\n",
       "    <tr>\n",
       "      <th>25%</th>\n",
       "      <td>398.000000</td>\n",
       "      <td>54473.660000</td>\n",
       "      <td>132.331001</td>\n",
       "    </tr>\n",
       "    <tr>\n",
       "      <th>50%</th>\n",
       "      <td>874.000000</td>\n",
       "      <td>117197.710000</td>\n",
       "      <td>136.335623</td>\n",
       "    </tr>\n",
       "    <tr>\n",
       "      <th>75%</th>\n",
       "      <td>1908.000000</td>\n",
       "      <td>268554.030000</td>\n",
       "      <td>141.152650</td>\n",
       "    </tr>\n",
       "    <tr>\n",
       "      <th>max</th>\n",
       "      <td>6140.000000</td>\n",
       "      <td>866737.410000</td>\n",
       "      <td>159.471066</td>\n",
       "    </tr>\n",
       "  </tbody>\n",
       "</table>\n",
       "</div>"
      ],
      "text/plain": [
       "        num_orders  total_revenue  avg_order_value\n",
       "count    69.000000      69.000000        69.000000\n",
       "mean   1429.942029  196980.343478       137.110870\n",
       "std    1444.484631  198974.458365         8.440521\n",
       "min      76.000000    9258.620000       111.983099\n",
       "25%     398.000000   54473.660000       132.331001\n",
       "50%     874.000000  117197.710000       136.335623\n",
       "75%    1908.000000  268554.030000       141.152650\n",
       "max    6140.000000  866737.410000       159.471066"
      ]
     },
     "execution_count": 25,
     "metadata": {},
     "output_type": "execute_result"
    }
   ],
   "source": [
    "state_metrics.describe()"
   ]
  },
  {
   "cell_type": "code",
   "execution_count": 24,
   "metadata": {},
   "outputs": [],
   "source": [
    "state_metrics.to_csv('state_metrics.csv')"
   ]
  },
  {
   "cell_type": "code",
   "execution_count": 13,
   "metadata": {},
   "outputs": [
    {
     "name": "stderr",
     "output_type": "stream",
     "text": [
      "C:\\Users\\trust\\AppData\\Local\\Temp\\ipykernel_6428\\3525210548.py:2: UserWarning: Parsing dates in %d/%m/%Y %H:%M format when dayfirst=False (the default) was specified. Pass `dayfirst=True` or specify a format to silence this warning.\n",
      "  orders_customers_df['order_purchase_timestamp'] = pd.to_datetime(orders_customers_df['order_purchase_timestamp'])\n"
     ]
    },
    {
     "name": "stdout",
     "output_type": "stream",
     "text": [
      "\n",
      "RFM Metrics by State:\n",
      "                AvgRecency  AvgFrequency  AvgMonetary\n",
      "customer_state                                       \n",
      "Pathum Thani    241.853026      1.138329   159.471066\n",
      "Loei            249.728070      1.178363   159.279708\n",
      "Sukhothai       229.160563      1.138028   159.226000\n",
      "Tak             259.334342      1.118003   153.719788\n",
      "Rayong          250.692208      1.161039   152.204818\n",
      "...                    ...           ...          ...\n",
      "Ranong          242.510460      1.144351   126.404017\n",
      "Phangnga        249.545455      1.118881   126.387028\n",
      "Trang           236.479021      1.150350   124.641643\n",
      "Yala            235.513158      1.065789   121.823947\n",
      "Chai Nat        244.239437      1.140845   111.983099\n",
      "\n",
      "[69 rows x 3 columns]\n"
     ]
    }
   ],
   "source": [
    "# Ensure the purchase timestamp is in datetime format\n",
    "orders_customers_df['order_purchase_timestamp'] = pd.to_datetime(orders_customers_df['order_purchase_timestamp'])\n",
    "\n",
    "# Set a snapshot date (one day after the lastest purchase)\n",
    "snapshot_date = orders_customers_df['order_purchase_timestamp'].max() + pd.Timedelta(days=1)\n",
    "\n",
    "rfm = orders_customers_df.groupby('customer_id').agg({\n",
    "    'order_purchase_timestamp': 'max',\n",
    "    'order_id': 'count',\n",
    "    'price': 'sum'\n",
    "}).reset_index()\n",
    "\n",
    "rfm.columns = ['customer_id', 'LastPurchase', 'Frequency', 'Monetary']\n",
    "rfm['Recency'] = (snapshot_date - pd.to_datetime(rfm['LastPurchase'])).dt.days\n",
    "rfm = pd.merge(rfm, customers_df[['customer_id', 'customer_state']], on='customer_id', how='left')\n",
    "\n",
    "# Aggregate RFM metrics by state\n",
    "rfm_state = rfm.groupby('customer_state').agg({\n",
    "    'Recency': 'mean',\n",
    "    'Frequency': 'mean',\n",
    "    'Monetary': 'mean'\n",
    "}).rename(columns={'Recency': 'AvgRecency', 'Frequency': 'AvgFrequency', 'Monetary': 'AvgMonetary'})\n",
    "\n",
    "rfm_state_sorted = rfm_state.sort_values(by=['AvgMonetary', 'AvgFrequency', 'AvgRecency'], ascending=[False, False, True])\n",
    "\n",
    "print(\"\\nRFM Metrics by State:\")\n",
    "print(rfm_state_sorted)"
   ]
  },
  {
   "cell_type": "markdown",
   "metadata": {},
   "source": [
    "## Regression Analysis"
   ]
  },
  {
   "cell_type": "code",
   "execution_count": 14,
   "metadata": {},
   "outputs": [
    {
     "name": "stdout",
     "output_type": "stream",
     "text": [
      "\n",
      "Regression Model Summary (Impact of time and state on order count):\n",
      "                            OLS Regression Results                            \n",
      "==============================================================================\n",
      "Dep. Variable:            order_count   R-squared:                       0.803\n",
      "Model:                            OLS   Adj. R-squared:                  0.793\n",
      "Method:                 Least Squares   F-statistic:                     80.93\n",
      "Date:                Wed, 05 Mar 2025   Prob (F-statistic):               0.00\n",
      "Time:                        16:56:24   Log-Likelihood:                -7217.2\n",
      "No. Observations:                1439   AIC:                         1.457e+04\n",
      "Df Residuals:                    1369   BIC:                         1.494e+04\n",
      "Df Model:                          69                                         \n",
      "Covariance Type:            nonrobust                                         \n",
      "=================================================================================================================\n",
      "                                                    coef    std err          t      P>|t|      [0.025      0.975]\n",
      "-----------------------------------------------------------------------------------------------------------------\n",
      "Intercept                                     -1.146e+05   3863.650    -29.665      0.000   -1.22e+05   -1.07e+05\n",
      "C(customer_state)[T.Ang Thong]                  -82.4681     11.682     -7.059      0.000    -105.385     -59.551\n",
      "C(customer_state)[T.Bangkok]                    -71.6758     11.683     -6.135      0.000     -94.593     -48.758\n",
      "C(customer_state)[T.Bueng Kan]                   -6.0952     11.539     -0.528      0.597     -28.731      16.540\n",
      "C(customer_state)[T.Buri Ram]                    74.3333     11.539      6.442      0.000      51.698      96.969\n",
      "C(customer_state)[T.Chachoengsao]                78.8571     11.539      6.834      0.000      56.221     101.493\n",
      "C(customer_state)[T.Chai Nat]                   -88.3093     11.840     -7.459      0.000    -111.535     -65.083\n",
      "C(customer_state)[T.Chaiyaphum]                  17.7619     11.539      1.539      0.124      -4.874      40.398\n",
      "C(customer_state)[T.Chanthaburi]                -38.7143     11.539     -3.355      0.001     -61.350     -16.079\n",
      "C(customer_state)[T.Chiang Mai]                  46.5238     11.539      4.032      0.000      23.888      69.160\n",
      "C(customer_state)[T.Chon Buri]                  -16.2857     11.539     -1.411      0.158     -38.921       6.350\n",
      "C(customer_state)[T.Chumphon]                   -26.5714     11.539     -2.303      0.021     -49.207      -3.936\n",
      "C(customer_state)[T.Kalasin]                     83.8571     11.539      7.267      0.000      61.221     106.493\n",
      "C(customer_state)[T.Kamphaeng Phet]             -33.6667     11.539     -2.918      0.004     -56.302     -11.031\n",
      "C(customer_state)[T.Kanchanaburi]               -71.9915     11.407     -6.311      0.000     -94.369     -49.614\n",
      "C(customer_state)[T.Khon Kaen]                  -23.9048     11.539     -2.072      0.038     -46.540      -1.269\n",
      "C(customer_state)[T.Krabi]                      -57.5714     11.539     -4.989      0.000     -80.207     -34.936\n",
      "C(customer_state)[T.Lampang]                    -35.5238     11.539     -3.079      0.002     -58.160     -12.888\n",
      "C(customer_state)[T.Lamphun]                    -39.0952     11.539     -3.388      0.001     -61.731     -16.460\n",
      "C(customer_state)[T.Loei]                       -74.5714     11.539     -6.463      0.000     -97.207     -51.936\n",
      "C(customer_state)[T.Lop Buri]                   -64.0952     11.539     -5.555      0.000     -86.731     -41.460\n",
      "C(customer_state)[T.Maha Sarakham]              105.9524     11.539      9.182      0.000      83.317     128.588\n",
      "C(customer_state)[T.Mukdahan]                     2.2381     11.539      0.194      0.846     -20.398      24.874\n",
      "C(customer_state)[T.Nakhon Nayok]               -16.7143     11.539     -1.449      0.148     -39.350       5.921\n",
      "C(customer_state)[T.Nakhon Pathom]              -44.2381     11.539     -3.834      0.000     -66.874     -21.602\n",
      "C(customer_state)[T.Nakhon Phanom]               91.0085     11.407      7.978      0.000      68.631     113.386\n",
      "C(customer_state)[T.Nakhon Ratchasima]          171.5714     11.539     14.869      0.000     148.936     194.207\n",
      "C(customer_state)[T.Nakhon Sawan]               -45.0476     11.539     -3.904      0.000     -67.683     -22.412\n",
      "C(customer_state)[T.Nakhon Si Thammarat]        -54.6667     11.539     -4.738      0.000     -77.302     -32.031\n",
      "C(customer_state)[T.Narathiwat]                 -70.1905     11.539     -6.083      0.000     -92.826     -47.555\n",
      "C(customer_state)[T.Nong Khai]                  -78.9094     11.682     -6.755      0.000    -101.827     -55.992\n",
      "C(customer_state)[T.Nonthaburi]                 -60.4762     11.539     -5.241      0.000     -83.112     -37.840\n",
      "C(customer_state)[T.Pathum Thani]               -74.3333     11.539     -6.442      0.000     -96.969     -51.698\n",
      "C(customer_state)[T.Pattani]                      2.5714     11.539      0.223      0.824     -20.064      25.207\n",
      "C(customer_state)[T.Phangnga]                   -79.3758     11.683     -6.794      0.000    -102.293     -56.458\n",
      "C(customer_state)[T.Phatthalung]                -70.8571     11.539     -6.141      0.000     -93.493     -48.221\n",
      "C(customer_state)[T.Phetchaburi]                -62.1429     11.539     -5.386      0.000     -84.779     -39.507\n",
      "C(customer_state)[T.Phra Nakhon Si Ayutthaya]   -77.7258     11.683     -6.653      0.000    -100.643     -54.808\n",
      "C(customer_state)[T.Phrae]                      -50.7619     11.539     -4.399      0.000     -73.398     -28.126\n",
      "C(customer_state)[T.Phuket]                     -81.6758     11.683     -6.991      0.000    -104.593     -58.758\n",
      "C(customer_state)[T.Prachin Buri]                13.6667     11.539      1.184      0.236      -8.969      36.302\n",
      "C(customer_state)[T.Prachuap Khiri Khan]        -47.5714     11.539     -4.123      0.000     -70.207     -24.936\n",
      "C(customer_state)[T.Ranong]                     -68.0952     11.539     -5.901      0.000     -90.731     -45.460\n",
      "C(customer_state)[T.Ratchaburi]                 -49.2381     11.539     -4.267      0.000     -71.874     -26.602\n",
      "C(customer_state)[T.Rayong]                     -53.7265     11.407     -4.710      0.000     -76.104     -31.349\n",
      "C(customer_state)[T.Roi Et]                     201.5238     11.539     17.465      0.000     178.888     224.160\n",
      "C(customer_state)[T.Sa Kaeo]                     -3.3810     11.539     -0.293      0.770     -26.017      19.255\n",
      "C(customer_state)[T.Sakon Nakhon]               138.1449     11.407     12.110      0.000     115.767     160.523\n",
      "C(customer_state)[T.Samut Prakan]               -57.0952     11.539     -4.948      0.000     -79.731     -34.460\n",
      "C(customer_state)[T.Samut Sakhon]               -74.3810     11.539     -6.446      0.000     -97.017     -51.745\n",
      "C(customer_state)[T.Samut Songkhram]            -46.8571     11.539     -4.061      0.000     -69.493     -24.221\n",
      "C(customer_state)[T.Saraburi]                   -73.3258     11.683     -6.277      0.000     -96.243     -50.408\n",
      "C(customer_state)[T.Satun]                      -74.0952     11.539     -6.421      0.000     -96.731     -51.460\n",
      "C(customer_state)[T.Si Sa Ket]                  123.7049     11.407     10.844      0.000     101.327     146.082\n",
      "C(customer_state)[T.Sing Buri]                  -79.0258     11.683     -6.764      0.000    -101.943     -56.108\n",
      "C(customer_state)[T.Songkhla]                   -60.7619     11.539     -5.266      0.000     -83.398     -38.126\n",
      "C(customer_state)[T.Sukhothai]                  -73.9524     11.539     -6.409      0.000     -96.588     -51.317\n",
      "C(customer_state)[T.Suphan Buri]                -73.2381     11.539     -6.347      0.000     -95.874     -50.602\n",
      "C(customer_state)[T.Surat Thani]                -79.7758     11.683     -6.829      0.000    -102.693     -56.858\n",
      "C(customer_state)[T.Surin]                       73.3333     11.539      6.355      0.000      50.698      95.969\n",
      "C(customer_state)[T.Tak]                        -59.3810     11.539     -5.146      0.000     -82.017     -36.745\n",
      "C(customer_state)[T.Trang]                      -79.3758     11.683     -6.794      0.000    -102.293     -56.458\n",
      "C(customer_state)[T.Trat]                       -35.4286     11.539     -3.070      0.002     -58.064     -12.793\n",
      "C(customer_state)[T.Ubon Ratchathani]           100.7619     11.539      8.732      0.000      78.126     123.398\n",
      "C(customer_state)[T.Udon Thani]                 -71.9048     11.539     -6.232      0.000     -94.540     -49.269\n",
      "C(customer_state)[T.Uthai Thani]                -47.2857     11.539     -4.098      0.000     -69.921     -24.650\n",
      "C(customer_state)[T.Uttaradit]                  -54.5714     11.539     -4.729      0.000     -77.207     -31.936\n",
      "C(customer_state)[T.Yala]                       -93.4004     12.012     -7.775      0.000    -116.965     -69.836\n",
      "C(customer_state)[T.Yasothon]                     3.2857     11.539      0.285      0.776     -19.350      25.921\n",
      "month_numeric                                     0.1557      0.005     29.689      0.000       0.145       0.166\n",
      "==============================================================================\n",
      "Omnibus:                      293.871   Durbin-Watson:                   1.586\n",
      "Prob(Omnibus):                  0.000   Jarque-Bera (JB):             3573.906\n",
      "Skew:                          -0.581   Prob(JB):                         0.00\n",
      "Kurtosis:                      10.633   Cond. No.                     2.89e+09\n",
      "==============================================================================\n",
      "\n",
      "Notes:\n",
      "[1] Standard Errors assume that the covariance matrix of the errors is correctly specified.\n",
      "[2] The condition number is large, 2.89e+09. This might indicate that there are\n",
      "strong multicollinearity or other numerical problems.\n"
     ]
    }
   ],
   "source": [
    "orders_customers_df['order_purchase_timestamp'] = pd.to_datetime(orders_customers_df['order_purchase_timestamp'])\n",
    "orders_customers_df['order_month'] = orders_customers_df['order_purchase_timestamp'].dt.to_period('M').astype(str)\n",
    "\n",
    "monthly_state = orders_customers_df.groupby(['order_month', 'customer_state']).agg(\n",
    "    order_count=('order_id', 'nunique'),\n",
    "    total_revenue=('price', 'sum')\n",
    ").reset_index()\n",
    "\n",
    "# Convert order_month to a numeric value\n",
    "monthly_state['order_month_dt'] = pd.to_datetime(monthly_state['order_month'], format='%Y-%m')\n",
    "monthly_state['month_numeric'] = monthly_state['order_month_dt'].map(pd.Timestamp.toordinal)\n",
    "\n",
    "# Run regression: order count ~ time + state\n",
    "model = smf.ols(\"order_count ~ month_numeric + C(customer_state)\", data=monthly_state).fit()\n",
    "print(\"\\nRegression Model Summary (Impact of time and state on order count):\")\n",
    "print(model.summary())"
   ]
  },
  {
   "cell_type": "code",
   "execution_count": 15,
   "metadata": {},
   "outputs": [
    {
     "name": "stdout",
     "output_type": "stream",
     "text": [
      "                                      term  coefficient\n",
      "45             C(customer_state)[T.Roi Et]   201.523810\n",
      "26  C(customer_state)[T.Nakhon Ratchasima]   171.571429\n",
      "47       C(customer_state)[T.Sakon Nakhon]   138.144887\n",
      "53          C(customer_state)[T.Si Sa Ket]   123.704882\n",
      "21      C(customer_state)[T.Maha Sarakham]   105.952381\n"
     ]
    }
   ],
   "source": [
    "# Sort the coefficients by value\n",
    "coefficients_df = model.params.to_frame(name=\"coefficient\").reset_index()\n",
    "coefficients_df.rename(columns={\"index\": \"term\"}, inplace=True)\n",
    "coefficients_df.sort_values(\"coefficient\", ascending=False, inplace=True)\n",
    "\n",
    "print(coefficients_df.head(5))"
   ]
  }
 ],
 "metadata": {
  "kernelspec": {
   "display_name": "Python 3",
   "language": "python",
   "name": "python3"
  },
  "language_info": {
   "codemirror_mode": {
    "name": "ipython",
    "version": 3
   },
   "file_extension": ".py",
   "mimetype": "text/x-python",
   "name": "python",
   "nbconvert_exporter": "python",
   "pygments_lexer": "ipython3",
   "version": "3.10.6"
  }
 },
 "nbformat": 4,
 "nbformat_minor": 2
}
